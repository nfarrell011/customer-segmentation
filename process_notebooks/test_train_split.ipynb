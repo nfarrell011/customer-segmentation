{
 "cells": [
  {
   "attachments": {},
   "cell_type": "markdown",
   "metadata": {},
   "source": [
    "## Classification Flow  \n",
    "This notebook contains a machine learning classification flow\n"
   ]
  },
  {
   "attachments": {},
   "cell_type": "markdown",
   "metadata": {},
   "source": [
    "### Modules/Packages"
   ]
  },
  {
   "cell_type": "code",
   "execution_count": 1,
   "metadata": {},
   "outputs": [],
   "source": [
    "import os\n",
    "import sys\n",
    "import time\n",
    "from pathlib import Path\n",
    "\n",
    "import pandas as pd\n",
    "import numpy as np\n",
    "import matplotlib.pyplot as plt\n",
    "from sklearn.pipeline import Pipeline\n",
    "from sklearn.preprocessing import StandardScaler\n",
    "from sklearn.impute import SimpleImputer\n",
    "from sklearn.compose import ColumnTransformer\n",
    "from sklearn.metrics import mean_squared_error, root_mean_squared_error\n",
    "from sklearn.model_selection import cross_val_score\n",
    "from sklearn.linear_model import LinearRegression\n",
    "# from sklearn.model_selection import train_test_split"
   ]
  },
  {
   "attachments": {},
   "cell_type": "markdown",
   "metadata": {},
   "source": [
    "### Set Import Path"
   ]
  },
  {
   "cell_type": "code",
   "execution_count": 2,
   "metadata": {},
   "outputs": [
    {
     "name": "stdout",
     "output_type": "stream",
     "text": [
      "The path the project directory has been set to: /Users/mikey/Library/Mobile Documents/com~apple~CloudDocs/Code/roux_class_files/DS5220/final_project/customer-segmentation\n"
     ]
    }
   ],
   "source": [
    "path = Path.cwd()\n",
    "path_to_project_directory = path.parent\n",
    "sys.path.insert(1, str(path_to_project_directory))\n",
    "print(f\"The path the project directory has been set to: {str(path_to_project_directory)}\")"
   ]
  },
  {
   "attachments": {},
   "cell_type": "markdown",
   "metadata": {},
   "source": [
    "### Import Modules"
   ]
  },
  {
   "cell_type": "code",
   "execution_count": 3,
   "metadata": {},
   "outputs": [],
   "source": [
    "import modules.phase1_utils as utils "
   ]
  },
  {
   "attachments": {},
   "cell_type": "markdown",
   "metadata": {},
   "source": [
    "### Helper Functions"
   ]
  },
  {
   "cell_type": "code",
   "execution_count": 4,
   "metadata": {},
   "outputs": [],
   "source": [
    "# Functions\n",
    "pass"
   ]
  },
  {
   "attachments": {},
   "cell_type": "markdown",
   "metadata": {},
   "source": [
    "### Parameters"
   ]
  },
  {
   "cell_type": "code",
   "execution_count": 5,
   "metadata": {},
   "outputs": [],
   "source": [
    "# Paths\n",
    "path_to_data_folder = path_to_project_directory / \"data\"\n",
    "path_to_kaggle_data_folder = path_to_data_folder / \"raw_from_kaggle\"\n",
    "path_split_data_folder = path_to_data_folder / \"data_splits\"\n",
    "\n",
    "# File names\n",
    "kaggle_data_file_name = \"Train.csv\"\n",
    "\n",
    "# Other\n",
    "target_attr = \"Segmentation\"\n",
    "test_size = 0.20\n",
    "train_test_split_random_state = 42\n",
    "missingness_threshold = 0.20\n",
    "split_folder = str(path_split_data_folder) + \"/\""
   ]
  },
  {
   "attachments": {},
   "cell_type": "markdown",
   "metadata": {},
   "source": [
    "### Set Timer"
   ]
  },
  {
   "cell_type": "code",
   "execution_count": 6,
   "metadata": {},
   "outputs": [],
   "source": [
    "start = time.time()"
   ]
  },
  {
   "attachments": {},
   "cell_type": "markdown",
   "metadata": {},
   "source": [
    "### Read in Raw Data"
   ]
  },
  {
   "cell_type": "code",
   "execution_count": 7,
   "metadata": {},
   "outputs": [],
   "source": [
    "df = pd.read_csv(str(path_to_kaggle_data_folder) + \"/\" + kaggle_data_file_name)"
   ]
  },
  {
   "attachments": {},
   "cell_type": "markdown",
   "metadata": {},
   "source": [
    "### Inspect Data Size"
   ]
  },
  {
   "cell_type": "code",
   "execution_count": 8,
   "metadata": {},
   "outputs": [
    {
     "name": "stdout",
     "output_type": "stream",
     "text": [
      "Size of the dataset: (8068, 11)\n"
     ]
    },
    {
     "data": {
      "text/html": [
       "<div>\n",
       "<style scoped>\n",
       "    .dataframe tbody tr th:only-of-type {\n",
       "        vertical-align: middle;\n",
       "    }\n",
       "\n",
       "    .dataframe tbody tr th {\n",
       "        vertical-align: top;\n",
       "    }\n",
       "\n",
       "    .dataframe thead th {\n",
       "        text-align: right;\n",
       "    }\n",
       "</style>\n",
       "<table border=\"1\" class=\"dataframe\">\n",
       "  <thead>\n",
       "    <tr style=\"text-align: right;\">\n",
       "      <th></th>\n",
       "      <th>ID</th>\n",
       "      <th>Gender</th>\n",
       "      <th>Ever_Married</th>\n",
       "      <th>Age</th>\n",
       "      <th>Graduated</th>\n",
       "      <th>Profession</th>\n",
       "      <th>Work_Experience</th>\n",
       "      <th>Spending_Score</th>\n",
       "      <th>Family_Size</th>\n",
       "      <th>Var_1</th>\n",
       "      <th>Segmentation</th>\n",
       "    </tr>\n",
       "  </thead>\n",
       "  <tbody>\n",
       "    <tr>\n",
       "      <th>0</th>\n",
       "      <td>462809</td>\n",
       "      <td>Male</td>\n",
       "      <td>No</td>\n",
       "      <td>22</td>\n",
       "      <td>No</td>\n",
       "      <td>Healthcare</td>\n",
       "      <td>1.0</td>\n",
       "      <td>Low</td>\n",
       "      <td>4.0</td>\n",
       "      <td>Cat_4</td>\n",
       "      <td>D</td>\n",
       "    </tr>\n",
       "    <tr>\n",
       "      <th>1</th>\n",
       "      <td>462643</td>\n",
       "      <td>Female</td>\n",
       "      <td>Yes</td>\n",
       "      <td>38</td>\n",
       "      <td>Yes</td>\n",
       "      <td>Engineer</td>\n",
       "      <td>NaN</td>\n",
       "      <td>Average</td>\n",
       "      <td>3.0</td>\n",
       "      <td>Cat_4</td>\n",
       "      <td>A</td>\n",
       "    </tr>\n",
       "    <tr>\n",
       "      <th>2</th>\n",
       "      <td>466315</td>\n",
       "      <td>Female</td>\n",
       "      <td>Yes</td>\n",
       "      <td>67</td>\n",
       "      <td>Yes</td>\n",
       "      <td>Engineer</td>\n",
       "      <td>1.0</td>\n",
       "      <td>Low</td>\n",
       "      <td>1.0</td>\n",
       "      <td>Cat_6</td>\n",
       "      <td>B</td>\n",
       "    </tr>\n",
       "    <tr>\n",
       "      <th>3</th>\n",
       "      <td>461735</td>\n",
       "      <td>Male</td>\n",
       "      <td>Yes</td>\n",
       "      <td>67</td>\n",
       "      <td>Yes</td>\n",
       "      <td>Lawyer</td>\n",
       "      <td>0.0</td>\n",
       "      <td>High</td>\n",
       "      <td>2.0</td>\n",
       "      <td>Cat_6</td>\n",
       "      <td>B</td>\n",
       "    </tr>\n",
       "    <tr>\n",
       "      <th>4</th>\n",
       "      <td>462669</td>\n",
       "      <td>Female</td>\n",
       "      <td>Yes</td>\n",
       "      <td>40</td>\n",
       "      <td>Yes</td>\n",
       "      <td>Entertainment</td>\n",
       "      <td>NaN</td>\n",
       "      <td>High</td>\n",
       "      <td>6.0</td>\n",
       "      <td>Cat_6</td>\n",
       "      <td>A</td>\n",
       "    </tr>\n",
       "  </tbody>\n",
       "</table>\n",
       "</div>"
      ],
      "text/plain": [
       "       ID  Gender Ever_Married  Age Graduated     Profession  Work_Experience  \\\n",
       "0  462809    Male           No   22        No     Healthcare              1.0   \n",
       "1  462643  Female          Yes   38       Yes       Engineer              NaN   \n",
       "2  466315  Female          Yes   67       Yes       Engineer              1.0   \n",
       "3  461735    Male          Yes   67       Yes         Lawyer              0.0   \n",
       "4  462669  Female          Yes   40       Yes  Entertainment              NaN   \n",
       "\n",
       "  Spending_Score  Family_Size  Var_1 Segmentation  \n",
       "0            Low          4.0  Cat_4            D  \n",
       "1        Average          3.0  Cat_4            A  \n",
       "2            Low          1.0  Cat_6            B  \n",
       "3           High          2.0  Cat_6            B  \n",
       "4           High          6.0  Cat_6            A  "
      ]
     },
     "execution_count": 8,
     "metadata": {},
     "output_type": "execute_result"
    }
   ],
   "source": [
    "print(f\"Size of the dataset: {df.shape}\")\n",
    "df.head()"
   ]
  },
  {
   "attachments": {},
   "cell_type": "markdown",
   "metadata": {},
   "source": [
    "### Inspect Missingness in Target Vector"
   ]
  },
  {
   "cell_type": "code",
   "execution_count": 9,
   "metadata": {},
   "outputs": [
    {
     "name": "stdout",
     "output_type": "stream",
     "text": [
      "Dataset size pre dropping observation with missing target: (8068, 11)\n",
      "Dataset size post dropping observation with missing target: (8068, 11)\n"
     ]
    }
   ],
   "source": [
    "print(f\"Dataset size pre dropping observation with missing target: {df.shape}\")\n",
    "df = df.dropna(subset = target_attr)\n",
    "print(f\"Dataset size post dropping observation with missing target: {df.shape}\")"
   ]
  },
  {
   "attachments": {},
   "cell_type": "markdown",
   "metadata": {},
   "source": [
    "### Perform Test Train Split"
   ]
  },
  {
   "cell_type": "code",
   "execution_count": 10,
   "metadata": {},
   "outputs": [
    {
     "name": "stdout",
     "output_type": "stream",
     "text": [
      "*************************\n",
      "\n",
      "df.shape:\n",
      "(8068, 11)\n",
      "\n",
      "target class fractional balance:\n",
      "Segmentation\n",
      "D    0.281111\n",
      "A    0.244422\n",
      "C    0.244175\n",
      "B    0.230293\n",
      "Name: count, dtype: float64\n",
      "\n",
      "*************************\n",
      "\n",
      "train_df.csv:\n",
      "(6454, 10) (6454, 1)\n",
      "\n",
      "target class fractional balance:\n",
      "Segmentation\n",
      "D    0.281066\n",
      "A    0.244500\n",
      "C    0.244190\n",
      "B    0.230245\n",
      "Name: count, dtype: float64\n",
      "\n",
      "*************************\n",
      "\n",
      "test_df.csv\n",
      "(1614, 10) (1614, 1)\n",
      "\n",
      "target class fractional balance:\n",
      "Segmentation\n",
      "D    0.281289\n",
      "A    0.244114\n",
      "C    0.244114\n",
      "B    0.230483\n",
      "Name: count, dtype: float64\n"
     ]
    },
    {
     "data": {
      "text/plain": [
       "{'train_cap_x_df':           ID  Gender Ever_Married  Age Graduated     Profession  \\\n",
       " 917   465905  Female           No   32       Yes         Artist   \n",
       " 3398  462903    Male          Yes   72       Yes  Entertainment   \n",
       " 2045  467901  Female           No   33       Yes  Entertainment   \n",
       " 8060  463613  Female          Yes   48       Yes         Artist   \n",
       " 4604  459859  Female          Yes   28        No         Doctor   \n",
       " ...      ...     ...          ...  ...       ...            ...   \n",
       " 3822  463101  Female           No   27        No      Homemaker   \n",
       " 5864  467844    Male           No   37       Yes     Healthcare   \n",
       " 3589  460706  Female           No   27        No       Engineer   \n",
       " 1489  464339    Male           No   26        No         Artist   \n",
       " 2661  459407  Female           No   37       Yes         Doctor   \n",
       " \n",
       "       Work_Experience Spending_Score  Family_Size  Var_1  \n",
       " 917               9.0            Low          1.0  Cat_6  \n",
       " 3398              NaN        Average          2.0  Cat_6  \n",
       " 2045              1.0            Low          4.0  Cat_6  \n",
       " 8060              0.0        Average          6.0  Cat_6  \n",
       " 4604              9.0            Low          1.0  Cat_7  \n",
       " ...               ...            ...          ...    ...  \n",
       " 3822              8.0            Low          1.0  Cat_6  \n",
       " 5864              0.0            Low          2.0  Cat_6  \n",
       " 3589              6.0            Low          6.0  Cat_4  \n",
       " 1489              0.0            Low          2.0  Cat_6  \n",
       " 2661              0.0            Low          3.0  Cat_6  \n",
       " \n",
       " [6454 rows x 10 columns],\n",
       " 'train_y_df':      Segmentation\n",
       " 917             A\n",
       " 3398            B\n",
       " 2045            B\n",
       " 8060            A\n",
       " 4604            A\n",
       " ...           ...\n",
       " 3822            D\n",
       " 5864            D\n",
       " 3589            D\n",
       " 1489            D\n",
       " 2661            A\n",
       " \n",
       " [6454 rows x 1 columns]}"
      ]
     },
     "execution_count": 10,
     "metadata": {},
     "output_type": "execute_result"
    }
   ],
   "source": [
    "utils.perform_the_train_test_split(df = df,\n",
    "                                   target_attr = target_attr, \n",
    "                                   test_size = test_size, \n",
    "                                   train_test_split_random_state = train_test_split_random_state,\n",
    "                                   split_folder = split_folder,\n",
    "                                   prefix = None, \n",
    "                                   val = None, \n",
    "                                   stratify = True)"
   ]
  }
 ],
 "metadata": {
  "kernelspec": {
   "display_name": "base",
   "language": "python",
   "name": "python3"
  },
  "language_info": {
   "codemirror_mode": {
    "name": "ipython",
    "version": 3
   },
   "file_extension": ".py",
   "mimetype": "text/x-python",
   "name": "python",
   "nbconvert_exporter": "python",
   "pygments_lexer": "ipython3",
   "version": "3.12.2"
  },
  "orig_nbformat": 4,
  "vscode": {
   "interpreter": {
    "hash": "b31d6a8ecfd6b48ec0cf9da67896692b418c4a39f70d4f1a3880fdc530a94b5e"
   }
  }
 },
 "nbformat": 4,
 "nbformat_minor": 2
}
